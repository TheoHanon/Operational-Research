{
 "cells": [
  {
   "cell_type": "markdown",
   "id": "61925546",
   "metadata": {},
   "source": [
    "# Part 3"
   ]
  },
  {
   "cell_type": "markdown",
   "id": "905b12ca",
   "metadata": {},
   "source": [
    "# Setup"
   ]
  },
  {
   "cell_type": "code",
   "execution_count": 1,
   "id": "7a129f2e",
   "metadata": {},
   "outputs": [
    {
     "data": {
      "text/plain": [
       "scenario_tree (generic function with 1 method)"
      ]
     },
     "metadata": {},
     "output_type": "display_data"
    }
   ],
   "source": [
    "using Plots\n",
    "using JuMP, HiGHS\n",
    "\n",
    "include(\"utils.jl\")\n",
    "include(\"extended_form.jl\")\n",
    "include(\"scenario_tree.jl\")"
   ]
  },
  {
   "cell_type": "code",
   "execution_count": 2,
   "id": "109b3236",
   "metadata": {},
   "outputs": [
    {
     "data": {
      "text/plain": [
       "\"data/\""
      ]
     },
     "metadata": {},
     "output_type": "display_data"
    }
   ],
   "source": [
    "DATA_DIR = \"data/\""
   ]
  },
  {
   "cell_type": "code",
   "execution_count": 3,
   "id": "65802909",
   "metadata": {},
   "outputs": [
    {
     "data": {
      "text/plain": [
       "4×4 Matrix{Float64}:\n",
       " 0.394106    0.524075   0.0807228  0.00109546\n",
       " 0.107876    0.564185   0.311323   0.016616\n",
       " 0.016616    0.311323   0.564185   0.107876\n",
       " 0.00109546  0.0807228  0.524075   0.394106"
      ]
     },
     "metadata": {},
     "output_type": "display_data"
    }
   ],
   "source": [
    "prices = vec(read_file(DATA_DIR * \"belpex_price.txt\"))\n",
    "states = vec(read_file(DATA_DIR * \"markov_support_4.txt\"))\n",
    "P_prob = read_file(DATA_DIR * \"markov_weights_4.txt\")"
   ]
  },
  {
   "cell_type": "markdown",
   "id": "0dac109d",
   "metadata": {},
   "source": [
    "# Questions"
   ]
  },
  {
   "cell_type": "markdown",
   "id": "7867fa67",
   "metadata": {},
   "source": [
    "Now, consider the full multistge stochastic model"
   ]
  },
  {
   "cell_type": "markdown",
   "id": "51d7a393",
   "metadata": {},
   "source": [
    "### 1. How many nodes are there in the full scenario tree ?"
   ]
  },
  {
   "cell_type": "markdown",
   "id": "7685c3cd",
   "metadata": {},
   "source": [
    "For N possible different states and T time steps, we have only one node at $t=1$ (assumed to be in state 1). At $t=2$, we then have $N$ possible outcomes (i.e children in the tree), whose transition probabilities are depending on the Markov chain, so at $t=2$, we have $N$ nodes. At $t=3$, all the possible nodes at $t=2$ also have $N$ children each, so $N^2$ nodes in total. We continue like this until $t=T$, where there are $N^{T-1}$ children nodes. In total, there are $\\sum_{t=0}^{T-1} N^t$ nodes, which is equal to $\\frac{N^T-1}{N-1}$ nodes. Setting $T=24$ and $N=4$, we then obtain $\\frac{4^{24}-1}{3}$ nodes which is $\\approx 9.38 \\times 10^{13}$ nodes."
   ]
  },
  {
   "cell_type": "markdown",
   "id": "fc6a84b4",
   "metadata": {},
   "source": [
    "### 2. Implement both the extended formulation of the multistage stochastic program and the scenario tree formulation for $H < T$. Solve both formulations for $H=1,2,\\dots$ until you reach the memory limit of your computer. What is the maximum $\\bar{H}$ that your computer can handle ?"
   ]
  },
  {
   "cell_type": "code",
   "execution_count": null,
   "id": "da98bf10",
   "metadata": {},
   "outputs": [],
   "source": [
    "N = 4\n",
    "H = 11\n",
    "\n",
    "# scenarios = generate_scenarios(H, N)\n",
    "# num_scenarios = length(scenarios)\n",
    "\n",
    "# λ_paths = Vector{Vector{Float64}}(undef, num_scenarios)\n",
    "# probs = zeros(num_scenarios)\n",
    "# for (i, s) in enumerate(scenarios)\n",
    "#     λ_paths[i], probs[i] = compute_price_path(s,prices,states, P_prob)\n",
    "# end\n",
    "\n",
    "# extended_multistage(λ_paths, H, num_scenarios)"
   ]
  },
  {
   "cell_type": "markdown",
   "id": "b5eb8e1d",
   "metadata": {},
   "source": [
    "### 3. Plot the evolution of the number of variables and constraints for both formulations as H increases from $1$ to $\\bar{H}$ "
   ]
  }
 ],
 "metadata": {
  "kernelspec": {
   "display_name": "Julia 1.10.2",
   "language": "julia",
   "name": "julia-1.10"
  },
  "language_info": {
   "file_extension": ".jl",
   "mimetype": "application/julia",
   "name": "julia",
   "version": "1.10.2"
  }
 },
 "nbformat": 4,
 "nbformat_minor": 5
}
