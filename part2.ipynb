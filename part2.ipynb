{
 "cells": [
  {
   "cell_type": "markdown",
   "metadata": {},
   "source": [
    "# Part 2"
   ]
  },
  {
   "cell_type": "markdown",
   "metadata": {},
   "source": [
    "## Setup"
   ]
  },
  {
   "cell_type": "code",
   "execution_count": 2,
   "metadata": {},
   "outputs": [
    {
     "data": {
      "text/plain": [
       "sample_chain (generic function with 1 method)"
      ]
     },
     "metadata": {},
     "output_type": "display_data"
    }
   ],
   "source": [
    "using Plots\n",
    "using JuMP, HiGHS\n",
    "\n",
    "include(\"utils.jl\")"
   ]
  },
  {
   "cell_type": "code",
   "execution_count": 3,
   "metadata": {},
   "outputs": [
    {
     "data": {
      "text/plain": [
       "\"data/\""
      ]
     },
     "metadata": {},
     "output_type": "display_data"
    }
   ],
   "source": [
    "DATA_DIR = \"data/\""
   ]
  },
  {
   "cell_type": "code",
   "execution_count": 4,
   "metadata": {},
   "outputs": [
    {
     "data": {
      "text/plain": [
       "4×4 Matrix{Float64}:\n",
       " 0.394106    0.524075   0.0807228  0.00109546\n",
       " 0.107876    0.564185   0.311323   0.016616\n",
       " 0.016616    0.311323   0.564185   0.107876\n",
       " 0.00109546  0.0807228  0.524075   0.394106"
      ]
     },
     "metadata": {},
     "output_type": "display_data"
    }
   ],
   "source": [
    "prices = vec(read_file(DATA_DIR * \"belpex_price.txt\"))\n",
    "states = vec(read_file(DATA_DIR * \"markov_support_4.txt\"))\n",
    "P_prob = read_file(DATA_DIR * \"markov_weights_4.txt\")"
   ]
  },
  {
   "cell_type": "markdown",
   "metadata": {},
   "source": [
    "## Questions"
   ]
  },
  {
   "cell_type": "markdown",
   "metadata": {},
   "source": [
    "Before considering the full multistage stochastic programming problem, let us trans-\n",
    "form the problem into multistage problem that can be equivalently formulated as a\n",
    "two-stage stochastic programming problem. In doing so, assume that the price in\n",
    "the first 𝐹 hours of the day is perfectly known and equal to the expected price. Then,\n",
    "generate 𝐾 scenarios that describe the evolution of the price for the next 𝑇 − 𝐹 hours.\n",
    "Take 𝐹 = 5 and 𝐾 = 10. The scenario tree for this formulation is shown in Figure 2."
   ]
  },
  {
   "cell_type": "code",
   "execution_count": 5,
   "metadata": {},
   "outputs": [
    {
     "data": {
      "text/plain": [
       "10"
      ]
     },
     "metadata": {},
     "output_type": "display_data"
    }
   ],
   "source": [
    "F = 5\n",
    "K = 10"
   ]
  },
  {
   "cell_type": "code",
   "execution_count": 8,
   "metadata": {},
   "outputs": [
    {
     "data": {
      "text/plain": [
       "10-element Vector{Float64}:\n",
       "  0.23344142183389774\n",
       "  0.23344142183389774\n",
       "  0.07419637843027282\n",
       "  0.23344142183389774\n",
       "  0.07419637843027282\n",
       "  0.07419637843027282\n",
       " -0.07419637843027282\n",
       " -0.07419637843027282\n",
       " -0.07419637843027282\n",
       " -0.07419637843027282"
      ]
     },
     "metadata": {},
     "output_type": "display_data"
    }
   ],
   "source": [
    "scenarios = sample_chain(K, P_prob, states)"
   ]
  },
  {
   "cell_type": "markdown",
   "metadata": {},
   "source": [
    "### 1. Formulate the two-stage-equivalent multistage stochastic programming problem"
   ]
  },
  {
   "cell_type": "markdown",
   "metadata": {},
   "source": [
    "Let us define stage one variables:\n",
    "* $b_1 = (b_{1,1}, \\dots, b_{1,F})$ where $b_{1t} =$ battery level at $t \\leq F$\n",
    "* $\\eta_1 = (\\eta_{1,1}, \\dots, \\eta_{1,F})$ (discharging)\n",
    "* $\\xi_1 = (\\xi_{1,1}, \\dots, \\xi_{1,F})$ (charging)\n",
    "* $P_1 = (P_{1,1}, \\dots, P_{1,F})$ (price)\n",
    "\n",
    "and the stage 2 variables :\n",
    "* $b_{2,\\omega} = (b_{1,F+1}(\\omega), \\dots, b_{1,T}(\\omega))$ where $b_{1t} =$ battery level at $t > F$\n",
    "* $\\eta_{2,\\omega} = (\\eta_{1,F+1}(\\omega), \\dots, \\eta_{1,T}(\\omega))$ (discharging)\n",
    "* $\\xi_{2, \\omega} = (\\xi_{1,F+1}(\\omega), \\dots, \\xi_{1,T}(\\omega))$ (charging)\n",
    "* $P_{2, \\omega} = (P_{2,F+1}(\\omega), \\dots, P_{2,T}(\\omega))$ (price)\n",
    "\n",
    "Finally the problem reads:\n",
    "$$\n",
    "\\begin{align*}\n",
    "    \\max& P_1 \\cdot (0.9 \\eta_1 - \\xi_1) + \\mathbb{E}\\bigg[P_{2, \\omega}\\cdot (0.9\\eta_{2, \\omega} - \\xi_{2,\\omega})\\bigg] \\\\\n",
    "    \\text{s.t.}~& A_1 b_1 + B_1 \\eta_1 + C_1 \\xi_1 = 0\\\\\n",
    "    & A_1 b_{2, \\omega} + B_1 \\eta_{2, \\omega} + C_1 \\xi_{2, \\omega} = 0,\\quad \\forall \\omega \\in \\Omega\\\\\n",
    "    &0\\leq \\eta_1 \\leq 200, \\quad 0\\leq \\eta_{2, \\omega} \\leq 200 \\quad \\forall \\omega \\in \\Omega \\\\\n",
    "    &0\\leq \\xi_1 \\leq 200, \\quad 0\\leq \\xi_{2, \\omega} \\leq 200 \\quad \\forall \\omega \\in \\Omega \\\\\n",
    "    & 0 \\leq b_1 \\leq 800, \\quad 0 \\leq b_{2, \\omega} \\leq 800,\\quad \\forall \\omega \\in \\Omega \\\\\n",
    "    & x_1, x_2, \\eta_1, \\eta_2, \\xi_1, \\xi_2 \\geq 0\n",
    "\n",
    "\\end{align*}\n",
    "$$\n",
    "\n",
    "where $A_1, B_1, C_1$ are chosen accordingly."
   ]
  },
  {
   "cell_type": "markdown",
   "metadata": {},
   "source": [
    "### 2. Explain why this problem is equivalent to a two-stage stochastic program.\n"
   ]
  },
  {
   "cell_type": "markdown",
   "metadata": {},
   "source": [
    "Given the scenario tree we can conclude that each branch is independent of the others meaning that although it involves mutiple stage, we can resume these into a single vector. Encapsulating the $F$ first desicion into a single vector, makes the problem a two-stage problem. "
   ]
  }
 ],
 "metadata": {
  "kernelspec": {
   "display_name": "Julia 1.10.2",
   "language": "julia",
   "name": "julia-1.10"
  },
  "language_info": {
   "file_extension": ".jl",
   "mimetype": "application/julia",
   "name": "julia",
   "version": "1.10.2"
  }
 },
 "nbformat": 4,
 "nbformat_minor": 2
}
