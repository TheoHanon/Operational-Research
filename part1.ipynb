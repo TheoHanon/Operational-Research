{
 "cells": [
  {
   "cell_type": "markdown",
   "metadata": {},
   "source": [
    "# Part 1"
   ]
  },
  {
   "cell_type": "markdown",
   "metadata": {},
   "source": [
    "## Setup"
   ]
  },
  {
   "cell_type": "code",
   "execution_count": 50,
   "metadata": {},
   "outputs": [
    {
     "data": {
      "text/plain": [
       "sample_chain_idx (generic function with 1 method)"
      ]
     },
     "metadata": {},
     "output_type": "display_data"
    }
   ],
   "source": [
    "using Plots\n",
    "using JuMP, HiGHS\n",
    "\n",
    "include(\"src/utils.jl\")"
   ]
  },
  {
   "cell_type": "code",
   "execution_count": 51,
   "metadata": {},
   "outputs": [
    {
     "data": {
      "text/plain": [
       "\"data/\""
      ]
     },
     "metadata": {},
     "output_type": "display_data"
    }
   ],
   "source": [
    "DATA_DIR = \"data/\""
   ]
  },
  {
   "cell_type": "code",
   "execution_count": 52,
   "metadata": {},
   "outputs": [
    {
     "data": {
      "text/plain": [
       "4×4 Matrix{Float64}:\n",
       " 0.394106    0.524075   0.0807228  0.00109546\n",
       " 0.107876    0.564185   0.311323   0.016616\n",
       " 0.016616    0.311323   0.564185   0.107876\n",
       " 0.00109546  0.0807228  0.524075   0.394106"
      ]
     },
     "metadata": {},
     "output_type": "display_data"
    }
   ],
   "source": [
    "prices = vec(read_file(DATA_DIR * \"belpex_price.txt\"))\n",
    "states = vec(read_file(DATA_DIR * \"markov_support_4.txt\"))\n",
    "P_prob = read_file(DATA_DIR * \"markov_weights_4.txt\")"
   ]
  },
  {
   "cell_type": "markdown",
   "metadata": {},
   "source": [
    "## Questions"
   ]
  },
  {
   "cell_type": "markdown",
   "metadata": {},
   "source": [
    "### 1. Plot the evolution of the given expected price and comment. How can the battery make profit ? How is it useful for the system ?"
   ]
  },
  {
   "cell_type": "code",
   "execution_count": 53,
   "metadata": {},
   "outputs": [
    {
     "data": {
      "text/plain": [
       "\"/Users/theohanon/Desktop/Operational-Research/plots/q1_prices.pdf\""
      ]
     },
     "metadata": {},
     "output_type": "display_data"
    }
   ],
   "source": [
    "p = plot(\n",
    "    1:24, \n",
    "    prices, \n",
    "    title = \"Expected Price\",\n",
    "    xlabel = \"Hour\",\n",
    "    ylabel = \"Price [€/MWh]\",\n",
    "    legend = false,\n",
    "    xticks = 1:24, \n",
    "    color = :red,\n",
    "    marker= :circle,\n",
    "    lw = 2)\n",
    "\n",
    "savefig(p, \"plots/q1_prices.pdf\")    "
   ]
  },
  {
   "cell_type": "markdown",
   "metadata": {},
   "source": [
    "### 2. Generate 10 different price scenarios over the 24 hours and plot them against the expected price."
   ]
  },
  {
   "cell_type": "code",
   "execution_count": 54,
   "metadata": {},
   "outputs": [
    {
     "data": {
      "text/plain": [
       "10"
      ]
     },
     "metadata": {},
     "output_type": "display_data"
    }
   ],
   "source": [
    "N_scenarios = 10"
   ]
  },
  {
   "cell_type": "code",
   "execution_count": 55,
   "metadata": {},
   "outputs": [
    {
     "data": {
      "text/plain": [
       "10×24 Matrix{Float64}:\n",
       " 0.0  0.0  0.0  0.0  0.0  0.0  0.0  0.0  …  0.0  0.0  0.0  0.0  0.0  0.0  0.0\n",
       " 0.0  0.0  0.0  0.0  0.0  0.0  0.0  0.0     0.0  0.0  0.0  0.0  0.0  0.0  0.0\n",
       " 0.0  0.0  0.0  0.0  0.0  0.0  0.0  0.0     0.0  0.0  0.0  0.0  0.0  0.0  0.0\n",
       " 0.0  0.0  0.0  0.0  0.0  0.0  0.0  0.0     0.0  0.0  0.0  0.0  0.0  0.0  0.0\n",
       " 0.0  0.0  0.0  0.0  0.0  0.0  0.0  0.0     0.0  0.0  0.0  0.0  0.0  0.0  0.0\n",
       " 0.0  0.0  0.0  0.0  0.0  0.0  0.0  0.0  …  0.0  0.0  0.0  0.0  0.0  0.0  0.0\n",
       " 0.0  0.0  0.0  0.0  0.0  0.0  0.0  0.0     0.0  0.0  0.0  0.0  0.0  0.0  0.0\n",
       " 0.0  0.0  0.0  0.0  0.0  0.0  0.0  0.0     0.0  0.0  0.0  0.0  0.0  0.0  0.0\n",
       " 0.0  0.0  0.0  0.0  0.0  0.0  0.0  0.0     0.0  0.0  0.0  0.0  0.0  0.0  0.0\n",
       " 0.0  0.0  0.0  0.0  0.0  0.0  0.0  0.0     0.0  0.0  0.0  0.0  0.0  0.0  0.0"
      ]
     },
     "metadata": {},
     "output_type": "display_data"
    }
   ],
   "source": [
    "ξ_t = zeros(N_scenarios, 24)\n",
    "λ_t = zeros(N_scenarios, 24)"
   ]
  },
  {
   "cell_type": "code",
   "execution_count": 56,
   "metadata": {},
   "outputs": [],
   "source": [
    "for i in 1:N_scenarios\n",
    "    ξ_t[i, :] = sample_chain(24, P_prob, states)\n",
    "end"
   ]
  },
  {
   "cell_type": "code",
   "execution_count": 57,
   "metadata": {},
   "outputs": [],
   "source": [
    "for i in 1:N_scenarios\n",
    "    λ_t[i, :] = prices .* exp.(ξ_t[i, :])\n",
    "end"
   ]
  },
  {
   "cell_type": "code",
   "execution_count": 156,
   "metadata": {},
   "outputs": [
    {
     "data": {
      "text/plain": [
       "\"/Users/theohanon/Desktop/Operational-Research/plots/q1_scenarios.pdf\""
      ]
     },
     "metadata": {},
     "output_type": "display_data"
    }
   ],
   "source": [
    "p = plot(\n",
    "    1:24, \n",
    "    eachrow(λ_t),\n",
    "    title = \"Price Scenarios\",\n",
    "    xlabel = \"Hour\",\n",
    "    ylabel = \"Price [€/MWh]\",\n",
    "    xticks = 1:24,\n",
    "    label = reshape([\"Scenario $i\" for i in 1:N_scenarios], 1, N_scenarios),\n",
    "    legend = :top,\n",
    "    legendfontsize = 6,\n",
    "    marker= :circle,\n",
    "    markersize = 2,\n",
    "    )\n",
    "\n",
    "plot!(\n",
    "    1:24,\n",
    "    prices, \n",
    "    label = \"Expected Price\",\n",
    "    color = :red,\n",
    "    lw = 1.5,\n",
    "    marker= :circle,\n",
    "    markersize = 3.5,\n",
    ")\n",
    "\n",
    "savefig(p, \"plots/q1_scenarios.pdf\")\n"
   ]
  },
  {
   "cell_type": "markdown",
   "metadata": {},
   "source": [
    "### 3. Formulate the deterministic problem."
   ]
  },
  {
   "cell_type": "markdown",
   "metadata": {},
   "source": [
    "The model reads :\n",
    "$$\n",
    "\\begin{align*}\n",
    "\\max_{b_t, \\eta_t, \\xi_t}& \\sum^{24}_{t=1}p_t(0.9 \\eta_t - \\frac{1}{0.9}\\xi_t) \\\\\n",
    "\\text{s.t.}~& b_{t+1} = b_{t} - \\eta_t + \\xi_t, \\quad t = 1,\\dots, 24\\\\\n",
    "& b_1 = 0\\\\\n",
    "&0 \\leq \\eta_t \\leq 200,~ 0 \\leq \\xi_t \\leq 200,\\quad t = 1,\\dots, 24 \\\\\n",
    "&0 \\leq b_t \\leq 800,\\quad t = 1,\\dots, 25 \\\\\n",
    "\\end{align*}\n",
    "$$\n",
    "where :\n",
    "* $b_t \\equiv$ batery level at time $t$\n",
    "* $\\eta_t \\equiv $ discharging at time $t$\n",
    "* $\\xi_t\\equiv$ charging at time $t$\n",
    "* $p_t\\equiv $ price at time $t$\n",
    "\n",
    "Note that the quantity of energy bought to charge $\\xi_t$ MWh in the battery is $\\frac{1}{0.9}\\xi_t$ MWh and the quantity of energy sold when discharging $\\eta_t$ MWh from the battery is then $0.9 \\eta_t$ MWh"
   ]
  },
  {
   "cell_type": "code",
   "execution_count": 59,
   "metadata": {},
   "outputs": [
    {
     "data": {
      "text/latex": [
       "$ 1.215 η_{1} - 1.5000000000000002 ξ_{1} + 3.717 η_{2} - 4.588888888888889 ξ_{2} + 25.164 η_{3} - 31.06666666666667 ξ_{3} + 45.333 η_{4} - 55.96666666666667 ξ_{4} + 48.384 η_{5} - 59.733333333333334 ξ_{5} + 51.093 η_{6} - 63.07777777777778 ξ_{6} + 46.26 η_{7} - 57.111111111111114 ξ_{7} + 31.851000000000003 η_{8} - 39.32222222222222 ξ_{8} + 36.666000000000004 η_{9} - 45.26666666666667 ξ_{9} + 31.994999999999997 η_{10} - 39.5 ξ_{10} + 21.528000000000002 η_{11} - 26.57777777777778 ξ_{11} + 15.93 η_{12} - 19.666666666666668 ξ_{12} + 11.151000000000002 η_{13} - 13.766666666666667 ξ_{13} + 6.615 η_{14} - 8.166666666666666 ξ_{14} + 3.7710000000000004 η_{15} - 4.655555555555556 ξ_{15} + 4.275 η_{16} - 5.277777777777778 ξ_{16} + 28.431 η_{17} - 35.1 ξ_{17} + 44.964 η_{18} - 55.51111111111111 ξ_{18} + 52.614000000000004 η_{19} - 64.95555555555556 ξ_{19} + 53.144999999999996 η_{20} - 65.61111111111111 ξ_{20} + 61.785000000000004 η_{21} - 76.27777777777779 ξ_{21} + 66.76200000000001 η_{22} - 82.42222222222223 ξ_{22} + 58.518 η_{23} - 72.24444444444444 ξ_{23} + 58.239 η_{24} - 71.89999999999999 ξ_{24} $"
      ],
      "text/plain": [
       "1.215 η[1] - 1.5000000000000002 ξ[1] + 3.717 η[2] - 4.588888888888889 ξ[2] + 25.164 η[3] - 31.06666666666667 ξ[3] + 45.333 η[4] - 55.96666666666667 ξ[4] + 48.384 η[5] - 59.733333333333334 ξ[5] + 51.093 η[6] - 63.07777777777778 ξ[6] + 46.26 η[7] - 57.111111111111114 ξ[7] + 31.851000000000003 η[8] - 39.32222222222222 ξ[8] + 36.666000000000004 η[9] - 45.26666666666667 ξ[9] + 31.994999999999997 η[10] - 39.5 ξ[10] + 21.528000000000002 η[11] - 26.57777777777778 ξ[11] + 15.93 η[12] - 19.666666666666668 ξ[12] + 11.151000000000002 η[13] - 13.766666666666667 ξ[13] + 6.615 η[14] - 8.166666666666666 ξ[14] + 3.7710000000000004 η[15] - 4.655555555555556 ξ[15] + 4.275 η[16] - 5.277777777777778 ξ[16] + 28.431 η[17] - 35.1 ξ[17] + 44.964 η[18] - 55.51111111111111 ξ[18] + 52.614000000000004 η[19] - 64.95555555555556 ξ[19] + 53.144999999999996 η[20] - 65.61111111111111 ξ[20] + 61.785000000000004 η[21] - 76.27777777777779 ξ[21] + 66.76200000000001 η[22] - 82.42222222222223 ξ[22] + 58.518 η[23] - 72.24444444444444 ξ[23] + 58.239 η[24] - 71.89999999999999 ξ[24]"
      ]
     },
     "metadata": {},
     "output_type": "display_data"
    }
   ],
   "source": [
    "deterministic_model = Model(HiGHS.Optimizer)\n",
    "\n",
    "@variable(deterministic_model, 0 <= b[1:25] <= 800)\n",
    "@variable(deterministic_model, 0 <= ξ[1:24] <= 200)\n",
    "@variable(deterministic_model, 0 <= η[1:24] <= 200)\n",
    "\n",
    "@constraint(deterministic_model,[t in 1:24] ,b[t+1] == b[t] - η[t] + ξ[t])\n",
    "@constraint(deterministic_model, b[1] == 0)\n",
    "\n",
    "@objective(deterministic_model, Max,\n",
    "    sum(prices[t] * (0.9*η[t]- 1/(0.9) * ξ[t]) for t in 1:24)\n",
    ")"
   ]
  },
  {
   "cell_type": "markdown",
   "metadata": {},
   "source": [
    "### 4. Solve the deterministic model of profit maximization over the 24 hours and plot the evolution of the energy stored in the battery"
   ]
  },
  {
   "cell_type": "code",
   "execution_count": 60,
   "metadata": {},
   "outputs": [
    {
     "name": "stdout",
     "output_type": "stream",
     "text": [
      "Running HiGHS 1.8.0 (git hash: fcfb53414): Copyright (c) 2024 HiGHS under MIT licence terms\n",
      "Coefficient ranges:\n",
      "  Matrix [1e+00, 1e+00]\n",
      "  Cost   [1e+00, 8e+01]\n",
      "  Bound  [2e+02, 8e+02]\n",
      "  RHS    [0e+00, 0e+00]\n",
      "Presolving model\n",
      "24 rows, 71 cols, 94 nonzeros  0s\n",
      "23 rows, 70 cols, 92 nonzeros  0s\n",
      "Presolve : Reductions: rows 23(-2); columns 70(-3); elements 92(-5)\n",
      "Solving the presolved LP\n",
      "Using EKK dual simplex solver - serial\n",
      "  Iteration        Objective     Infeasibilities num(sum)\n",
      "          0     0.0000000000e+00 Ph1: 0(0) 0s\n",
      "         31    -6.4403755556e+04 Pr: 0(0) 0s\n",
      "Solving the original LP from the solution after postsolve\n",
      "Model   status      : Optimal\n",
      "Simplex   iterations: 31\n",
      "Objective value     :  6.4403755556e+04\n",
      "HiGHS run time      :          0.00\n"
     ]
    }
   ],
   "source": [
    "optimize!(deterministic_model)"
   ]
  },
  {
   "cell_type": "code",
   "execution_count": 61,
   "metadata": {},
   "outputs": [
    {
     "data": {
      "text/plain": [
       "24-element Vector{Float64}:\n",
       " 200.0\n",
       " 200.0\n",
       " 200.0\n",
       "   0.0\n",
       "   0.0\n",
       "   0.0\n",
       "   0.0\n",
       "  -0.0\n",
       "   0.0\n",
       "   0.0\n",
       "   ⋮\n",
       " 200.0\n",
       "   0.0\n",
       "   0.0\n",
       "   0.0\n",
       "   0.0\n",
       "   0.0\n",
       "   0.0\n",
       "   0.0\n",
       "   0.0"
      ]
     },
     "metadata": {},
     "output_type": "display_data"
    }
   ],
   "source": [
    "bt = value.(b)\n",
    "eta_t = value.(η)\n",
    "xi_t = value.(ξ)"
   ]
  },
  {
   "cell_type": "code",
   "execution_count": null,
   "metadata": {},
   "outputs": [
    {
     "data": {
      "text/plain": [
       "\"/Users/theohanon/Desktop/Operational-Research/plots/q1_battery.pdf\""
      ]
     },
     "metadata": {},
     "output_type": "display_data"
    }
   ],
   "source": [
    "\n",
    "ax1 = plot(\n",
    "    1:25, bt,\n",
    "    # label    = \"Battery Level\",\n",
    "    xlabel   = \"Hour\",\n",
    "    ylabel   = \"Battery Level [MWh]\",\n",
    "    color    = :black,\n",
    "    xticks   = 1:25,\n",
    "    marker   = :circle,\n",
    "    # markersize = 1.8,\n",
    ")\n",
    "ax2 = twinx()\n",
    "\n",
    "\n",
    "fg = plot!(\n",
    "    ax2,\n",
    "    [fill(NaN, 25), prices],   \n",
    "    label      = [\"Battery Level\" \"Prices\"],\n",
    "    ylabel     = \"Price [€/MWh]\",\n",
    "    color      = [:black :red],\n",
    "    marker    = [:circle :circle],\n",
    ")\n",
    "\n",
    "\n",
    "savefig(fg, \"plots/q1_battery.pdf\")"
   ]
  },
  {
   "cell_type": "code",
   "execution_count": 155,
   "metadata": {},
   "outputs": [
    {
     "data": {
      "text/plain": [
       "\"/Users/theohanon/Desktop/Operational-Research/plots/q1_charge.pdf\""
      ]
     },
     "metadata": {},
     "output_type": "display_data"
    }
   ],
   "source": [
    "fg = plot(\n",
    "    1:24, \n",
    "    [eta_t, xi_t], \n",
    "    label = reshape([\"Discharge\", \"Charge\"], 1, 2), \n",
    "    xlabel=\"Hour\", \n",
    "    ylabel=\"Charge [MW]\", \n",
    "    xticks = 1:24,\n",
    "    marker = [:circle :circle],\n",
    "    color = [:blue :green],\n",
    "    legend = :right,\n",
    ")\n",
    "\n",
    "savefig(fg, \"plots/q1_charge.pdf\")"
   ]
  }
 ],
 "metadata": {
  "kernelspec": {
   "display_name": "Julia 1.10.2",
   "language": "julia",
   "name": "julia-1.10"
  },
  "language_info": {
   "file_extension": ".jl",
   "mimetype": "application/julia",
   "name": "julia",
   "version": "1.10.2"
  }
 },
 "nbformat": 4,
 "nbformat_minor": 2
}
